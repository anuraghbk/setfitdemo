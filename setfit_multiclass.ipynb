{
  "nbformat": 4,
  "nbformat_minor": 0,
  "metadata": {
    "colab": {
      "provenance": [],
      "gpuType": "T4"
    },
    "kernelspec": {
      "name": "python3",
      "display_name": "Python 3"
    },
    "language_info": {
      "name": "python"
    },
    "accelerator": "GPU",
    "widgets": {
      "application/vnd.jupyter.widget-state+json": {
        "795836d9e29f4155bdb677b7b98d3fe1": {
          "model_module": "@jupyter-widgets/controls",
          "model_name": "HBoxModel",
          "model_module_version": "1.5.0",
          "state": {
            "_dom_classes": [],
            "_model_module": "@jupyter-widgets/controls",
            "_model_module_version": "1.5.0",
            "_model_name": "HBoxModel",
            "_view_count": null,
            "_view_module": "@jupyter-widgets/controls",
            "_view_module_version": "1.5.0",
            "_view_name": "HBoxView",
            "box_style": "",
            "children": [
              "IPY_MODEL_292e36fc35ec4289b83aa1b4d575e598",
              "IPY_MODEL_0cd5663294644442beafb84a84d6296d",
              "IPY_MODEL_974abca8146a458895828d34c16b8b74"
            ],
            "layout": "IPY_MODEL_b7ef689d93ad450b8c90995b06bf0ed1"
          }
        },
        "292e36fc35ec4289b83aa1b4d575e598": {
          "model_module": "@jupyter-widgets/controls",
          "model_name": "HTMLModel",
          "model_module_version": "1.5.0",
          "state": {
            "_dom_classes": [],
            "_model_module": "@jupyter-widgets/controls",
            "_model_module_version": "1.5.0",
            "_model_name": "HTMLModel",
            "_view_count": null,
            "_view_module": "@jupyter-widgets/controls",
            "_view_module_version": "1.5.0",
            "_view_name": "HTMLView",
            "description": "",
            "description_tooltip": null,
            "layout": "IPY_MODEL_9fde3119b9574db08dd224f10f78b43d",
            "placeholder": "​",
            "style": "IPY_MODEL_1b019e29823c46cf972ff28e8a96d3d6",
            "value": "Map: 100%"
          }
        },
        "0cd5663294644442beafb84a84d6296d": {
          "model_module": "@jupyter-widgets/controls",
          "model_name": "FloatProgressModel",
          "model_module_version": "1.5.0",
          "state": {
            "_dom_classes": [],
            "_model_module": "@jupyter-widgets/controls",
            "_model_module_version": "1.5.0",
            "_model_name": "FloatProgressModel",
            "_view_count": null,
            "_view_module": "@jupyter-widgets/controls",
            "_view_module_version": "1.5.0",
            "_view_name": "ProgressView",
            "bar_style": "success",
            "description": "",
            "description_tooltip": null,
            "layout": "IPY_MODEL_7f2b517e31cb4386912bcd3b6085edef",
            "max": 8,
            "min": 0,
            "orientation": "horizontal",
            "style": "IPY_MODEL_478796c97d4d41009e98099e84c4aabd",
            "value": 8
          }
        },
        "974abca8146a458895828d34c16b8b74": {
          "model_module": "@jupyter-widgets/controls",
          "model_name": "HTMLModel",
          "model_module_version": "1.5.0",
          "state": {
            "_dom_classes": [],
            "_model_module": "@jupyter-widgets/controls",
            "_model_module_version": "1.5.0",
            "_model_name": "HTMLModel",
            "_view_count": null,
            "_view_module": "@jupyter-widgets/controls",
            "_view_module_version": "1.5.0",
            "_view_name": "HTMLView",
            "description": "",
            "description_tooltip": null,
            "layout": "IPY_MODEL_67ed7e25455b482a9277fbf77201d542",
            "placeholder": "​",
            "style": "IPY_MODEL_d61a35979dc245f3ba1792eac732029c",
            "value": " 8/8 [00:00&lt;00:00, 228.83 examples/s]"
          }
        },
        "b7ef689d93ad450b8c90995b06bf0ed1": {
          "model_module": "@jupyter-widgets/base",
          "model_name": "LayoutModel",
          "model_module_version": "1.2.0",
          "state": {
            "_model_module": "@jupyter-widgets/base",
            "_model_module_version": "1.2.0",
            "_model_name": "LayoutModel",
            "_view_count": null,
            "_view_module": "@jupyter-widgets/base",
            "_view_module_version": "1.2.0",
            "_view_name": "LayoutView",
            "align_content": null,
            "align_items": null,
            "align_self": null,
            "border": null,
            "bottom": null,
            "display": null,
            "flex": null,
            "flex_flow": null,
            "grid_area": null,
            "grid_auto_columns": null,
            "grid_auto_flow": null,
            "grid_auto_rows": null,
            "grid_column": null,
            "grid_gap": null,
            "grid_row": null,
            "grid_template_areas": null,
            "grid_template_columns": null,
            "grid_template_rows": null,
            "height": null,
            "justify_content": null,
            "justify_items": null,
            "left": null,
            "margin": null,
            "max_height": null,
            "max_width": null,
            "min_height": null,
            "min_width": null,
            "object_fit": null,
            "object_position": null,
            "order": null,
            "overflow": null,
            "overflow_x": null,
            "overflow_y": null,
            "padding": null,
            "right": null,
            "top": null,
            "visibility": null,
            "width": null
          }
        },
        "9fde3119b9574db08dd224f10f78b43d": {
          "model_module": "@jupyter-widgets/base",
          "model_name": "LayoutModel",
          "model_module_version": "1.2.0",
          "state": {
            "_model_module": "@jupyter-widgets/base",
            "_model_module_version": "1.2.0",
            "_model_name": "LayoutModel",
            "_view_count": null,
            "_view_module": "@jupyter-widgets/base",
            "_view_module_version": "1.2.0",
            "_view_name": "LayoutView",
            "align_content": null,
            "align_items": null,
            "align_self": null,
            "border": null,
            "bottom": null,
            "display": null,
            "flex": null,
            "flex_flow": null,
            "grid_area": null,
            "grid_auto_columns": null,
            "grid_auto_flow": null,
            "grid_auto_rows": null,
            "grid_column": null,
            "grid_gap": null,
            "grid_row": null,
            "grid_template_areas": null,
            "grid_template_columns": null,
            "grid_template_rows": null,
            "height": null,
            "justify_content": null,
            "justify_items": null,
            "left": null,
            "margin": null,
            "max_height": null,
            "max_width": null,
            "min_height": null,
            "min_width": null,
            "object_fit": null,
            "object_position": null,
            "order": null,
            "overflow": null,
            "overflow_x": null,
            "overflow_y": null,
            "padding": null,
            "right": null,
            "top": null,
            "visibility": null,
            "width": null
          }
        },
        "1b019e29823c46cf972ff28e8a96d3d6": {
          "model_module": "@jupyter-widgets/controls",
          "model_name": "DescriptionStyleModel",
          "model_module_version": "1.5.0",
          "state": {
            "_model_module": "@jupyter-widgets/controls",
            "_model_module_version": "1.5.0",
            "_model_name": "DescriptionStyleModel",
            "_view_count": null,
            "_view_module": "@jupyter-widgets/base",
            "_view_module_version": "1.2.0",
            "_view_name": "StyleView",
            "description_width": ""
          }
        },
        "7f2b517e31cb4386912bcd3b6085edef": {
          "model_module": "@jupyter-widgets/base",
          "model_name": "LayoutModel",
          "model_module_version": "1.2.0",
          "state": {
            "_model_module": "@jupyter-widgets/base",
            "_model_module_version": "1.2.0",
            "_model_name": "LayoutModel",
            "_view_count": null,
            "_view_module": "@jupyter-widgets/base",
            "_view_module_version": "1.2.0",
            "_view_name": "LayoutView",
            "align_content": null,
            "align_items": null,
            "align_self": null,
            "border": null,
            "bottom": null,
            "display": null,
            "flex": null,
            "flex_flow": null,
            "grid_area": null,
            "grid_auto_columns": null,
            "grid_auto_flow": null,
            "grid_auto_rows": null,
            "grid_column": null,
            "grid_gap": null,
            "grid_row": null,
            "grid_template_areas": null,
            "grid_template_columns": null,
            "grid_template_rows": null,
            "height": null,
            "justify_content": null,
            "justify_items": null,
            "left": null,
            "margin": null,
            "max_height": null,
            "max_width": null,
            "min_height": null,
            "min_width": null,
            "object_fit": null,
            "object_position": null,
            "order": null,
            "overflow": null,
            "overflow_x": null,
            "overflow_y": null,
            "padding": null,
            "right": null,
            "top": null,
            "visibility": null,
            "width": null
          }
        },
        "478796c97d4d41009e98099e84c4aabd": {
          "model_module": "@jupyter-widgets/controls",
          "model_name": "ProgressStyleModel",
          "model_module_version": "1.5.0",
          "state": {
            "_model_module": "@jupyter-widgets/controls",
            "_model_module_version": "1.5.0",
            "_model_name": "ProgressStyleModel",
            "_view_count": null,
            "_view_module": "@jupyter-widgets/base",
            "_view_module_version": "1.2.0",
            "_view_name": "StyleView",
            "bar_color": null,
            "description_width": ""
          }
        },
        "67ed7e25455b482a9277fbf77201d542": {
          "model_module": "@jupyter-widgets/base",
          "model_name": "LayoutModel",
          "model_module_version": "1.2.0",
          "state": {
            "_model_module": "@jupyter-widgets/base",
            "_model_module_version": "1.2.0",
            "_model_name": "LayoutModel",
            "_view_count": null,
            "_view_module": "@jupyter-widgets/base",
            "_view_module_version": "1.2.0",
            "_view_name": "LayoutView",
            "align_content": null,
            "align_items": null,
            "align_self": null,
            "border": null,
            "bottom": null,
            "display": null,
            "flex": null,
            "flex_flow": null,
            "grid_area": null,
            "grid_auto_columns": null,
            "grid_auto_flow": null,
            "grid_auto_rows": null,
            "grid_column": null,
            "grid_gap": null,
            "grid_row": null,
            "grid_template_areas": null,
            "grid_template_columns": null,
            "grid_template_rows": null,
            "height": null,
            "justify_content": null,
            "justify_items": null,
            "left": null,
            "margin": null,
            "max_height": null,
            "max_width": null,
            "min_height": null,
            "min_width": null,
            "object_fit": null,
            "object_position": null,
            "order": null,
            "overflow": null,
            "overflow_x": null,
            "overflow_y": null,
            "padding": null,
            "right": null,
            "top": null,
            "visibility": null,
            "width": null
          }
        },
        "d61a35979dc245f3ba1792eac732029c": {
          "model_module": "@jupyter-widgets/controls",
          "model_name": "DescriptionStyleModel",
          "model_module_version": "1.5.0",
          "state": {
            "_model_module": "@jupyter-widgets/controls",
            "_model_module_version": "1.5.0",
            "_model_name": "DescriptionStyleModel",
            "_view_count": null,
            "_view_module": "@jupyter-widgets/base",
            "_view_module_version": "1.2.0",
            "_view_name": "StyleView",
            "description_width": ""
          }
        }
      }
    }
  },
  "cells": [
    {
      "cell_type": "code",
      "execution_count": 1,
      "metadata": {
        "colab": {
          "base_uri": "https://localhost:8080/"
        },
        "id": "jIqjyrzfCNhM",
        "outputId": "5616ccf4-5b59-4cfe-de21-0bf9c9da6097"
      },
      "outputs": [
        {
          "output_type": "stream",
          "name": "stdout",
          "text": [
            "Successfully installed datasets-2.18.0 dill-0.3.8 evaluate-0.4.1 multiprocess-0.70.16 nvidia-cublas-cu12-12.1.3.1 nvidia-cuda-cupti-cu12-12.1.105 nvidia-cuda-nvrtc-cu12-12.1.105 nvidia-cuda-runtime-cu12-12.1.105 nvidia-cudnn-cu12-8.9.2.26 nvidia-cufft-cu12-11.0.2.54 nvidia-curand-cu12-10.3.2.106 nvidia-cusolver-cu12-11.4.5.107 nvidia-cusparse-cu12-12.1.0.106 nvidia-nccl-cu12-2.19.3 nvidia-nvjitlink-cu12-12.4.99 nvidia-nvtx-cu12-12.1.105 responses-0.18.0 sentence-transformers-2.5.1 setfit-1.0.3 xxhash-3.4.1\n"
          ]
        }
      ],
      "source": [
        "!pip install setfit"
      ]
    },
    {
      "cell_type": "code",
      "source": [
        "\n",
        "from datasets import load_dataset\n",
        "from sentence_transformers.losses import CosineSimilarityLoss\n",
        "\n",
        "from setfit import SetFitModel, SetFitTrainer\n",
        "\n",
        "from datasets import Dataset\n",
        "import numpy as np"
      ],
      "metadata": {
        "id": "X0NMmDjzF1gg"
      },
      "execution_count": 8,
      "outputs": []
    },
    {
      "cell_type": "code",
      "source": [
        "class OneHotEncoder:\n",
        "    def __init__(self):\n",
        "        self.unique_labels = None\n",
        "\n",
        "    def fit_transform(self, labels):\n",
        "        self.unique_labels = list(set(labels))\n",
        "        self.unique_labels.sort()\n",
        "        encoded_labels = []\n",
        "\n",
        "        for label in labels:\n",
        "            encoded_label = [0] * len(self.unique_labels)\n",
        "            index = self.unique_labels.index(label)\n",
        "            encoded_label[index] = 1\n",
        "            encoded_labels.append(encoded_label)\n",
        "\n",
        "        return encoded_labels\n",
        "\n",
        "    def inverse_transform(self, encoded_labels):\n",
        "        original_labels = []\n",
        "\n",
        "        for encoded_label in encoded_labels:\n",
        "            try:\n",
        "                index = encoded_label.index(1)\n",
        "                original_labels.append(self.unique_labels[index])\n",
        "            except ValueError:\n",
        "                original_labels.append(None)\n",
        "\n",
        "        return original_labels"
      ],
      "metadata": {
        "id": "pCYpFJQeHT6R"
      },
      "execution_count": 80,
      "outputs": []
    },
    {
      "cell_type": "code",
      "source": [
        "texts = [\"I want to make an in-store purchase\", \"I will buy from store\",\"make a purchase in person\",\n",
        "         \"make a payment\",\"redeem rewards\",\"transaction declined\",\"can i pay at store\",\"i like eating momos\"]\n",
        "labels = ['purchase','purchase','purchase','other','other','other','other','food']"
      ],
      "metadata": {
        "id": "Ooy9dtOgF9ar"
      },
      "execution_count": 81,
      "outputs": []
    },
    {
      "cell_type": "code",
      "source": [
        "enc = OneHotEncoder()\n",
        "enc_labels = enc.fit_transform(labels)"
      ],
      "metadata": {
        "id": "yuerh9t2Ha8w"
      },
      "execution_count": 82,
      "outputs": []
    },
    {
      "cell_type": "code",
      "source": [
        "# Create a dictionary with 'text' and 'label' keys\n",
        "data = {\"text\": texts, \"label\": enc_labels}\n",
        "\n",
        "# Create a Dataset object from the dictionary\n",
        "custom_dataset = Dataset.from_dict(data)\n",
        "\n",
        "# Print the dataset\n",
        "print(custom_dataset)"
      ],
      "metadata": {
        "colab": {
          "base_uri": "https://localhost:8080/"
        },
        "id": "2zRdO0-aIsCC",
        "outputId": "f78eeab8-b04f-4175-aeb2-b091fdaf3920"
      },
      "execution_count": 83,
      "outputs": [
        {
          "output_type": "stream",
          "name": "stdout",
          "text": [
            "Dataset({\n",
            "    features: ['text', 'label'],\n",
            "    num_rows: 8\n",
            "})\n"
          ]
        }
      ]
    },
    {
      "cell_type": "code",
      "source": [
        "train_ds = custom_dataset\n",
        "test_ds = custom_dataset"
      ],
      "metadata": {
        "id": "U2xbR3WTIvIx"
      },
      "execution_count": 84,
      "outputs": []
    },
    {
      "cell_type": "code",
      "source": [
        "model = SetFitModel.from_pretrained(\"sentence-transformers/paraphrase-mpnet-base-v2\",multi_target_strategy=\"one-vs-rest\")"
      ],
      "metadata": {
        "colab": {
          "base_uri": "https://localhost:8080/"
        },
        "id": "E0kQDYguIzm4",
        "outputId": "8b7b6556-c607-4867-d1b7-ba99718c2bf7"
      },
      "execution_count": 85,
      "outputs": [
        {
          "output_type": "stream",
          "name": "stderr",
          "text": [
            "model_head.pkl not found on HuggingFace Hub, initialising classification head with random weights. You should TRAIN this model on a downstream task to use it for predictions and inference.\n"
          ]
        }
      ]
    },
    {
      "cell_type": "code",
      "source": [
        "# Create trainer\n",
        "trainer = SetFitTrainer(\n",
        "    model=model,\n",
        "    train_dataset=train_ds,\n",
        "    eval_dataset=test_ds,\n",
        "    loss_class=CosineSimilarityLoss,\n",
        "    batch_size=16,\n",
        "    num_iterations=20, # Number of text pairs to generate for contrastive learning\n",
        "    num_epochs=1 # Number of epochs to use for contrastive learning\n",
        ")"
      ],
      "metadata": {
        "colab": {
          "base_uri": "https://localhost:8080/",
          "height": 84,
          "referenced_widgets": [
            "795836d9e29f4155bdb677b7b98d3fe1",
            "292e36fc35ec4289b83aa1b4d575e598",
            "0cd5663294644442beafb84a84d6296d",
            "974abca8146a458895828d34c16b8b74",
            "b7ef689d93ad450b8c90995b06bf0ed1",
            "9fde3119b9574db08dd224f10f78b43d",
            "1b019e29823c46cf972ff28e8a96d3d6",
            "7f2b517e31cb4386912bcd3b6085edef",
            "478796c97d4d41009e98099e84c4aabd",
            "67ed7e25455b482a9277fbf77201d542",
            "d61a35979dc245f3ba1792eac732029c"
          ]
        },
        "id": "I-h95rM8Iw6A",
        "outputId": "2748819c-724a-424f-b006-12dee8b9e851"
      },
      "execution_count": 86,
      "outputs": [
        {
          "output_type": "stream",
          "name": "stderr",
          "text": [
            "<ipython-input-86-10f76729619e>:2: DeprecationWarning: `SetFitTrainer` has been deprecated and will be removed in v2.0.0 of SetFit. Please use `Trainer` instead.\n",
            "  trainer = SetFitTrainer(\n"
          ]
        },
        {
          "output_type": "display_data",
          "data": {
            "text/plain": [
              "Map:   0%|          | 0/8 [00:00<?, ? examples/s]"
            ],
            "application/vnd.jupyter.widget-view+json": {
              "version_major": 2,
              "version_minor": 0,
              "model_id": "795836d9e29f4155bdb677b7b98d3fe1"
            }
          },
          "metadata": {}
        }
      ]
    },
    {
      "cell_type": "code",
      "source": [
        "trainer.train()"
      ],
      "metadata": {
        "colab": {
          "base_uri": "https://localhost:8080/",
          "height": 162
        },
        "id": "Z_7nfKkkI2pR",
        "outputId": "2c67339b-5870-43ee-b1a8-273560c00ae1"
      },
      "execution_count": 87,
      "outputs": [
        {
          "output_type": "stream",
          "name": "stderr",
          "text": [
            "***** Running training *****\n",
            "  Num unique pairs = 320\n",
            "  Batch size = 16\n",
            "  Num epochs = 1\n",
            "  Total optimization steps = 20\n"
          ]
        },
        {
          "output_type": "display_data",
          "data": {
            "text/plain": [
              "<IPython.core.display.HTML object>"
            ],
            "text/html": [
              "\n",
              "    <div>\n",
              "      \n",
              "      <progress value='20' max='20' style='width:300px; height:20px; vertical-align: middle;'></progress>\n",
              "      [20/20 00:02, Epoch 1/0]\n",
              "    </div>\n",
              "    <table border=\"1\" class=\"dataframe\">\n",
              "  <thead>\n",
              " <tr style=\"text-align: left;\">\n",
              "      <th>Step</th>\n",
              "      <th>Training Loss</th>\n",
              "    </tr>\n",
              "  </thead>\n",
              "  <tbody>\n",
              "  </tbody>\n",
              "</table><p>"
            ]
          },
          "metadata": {}
        }
      ]
    },
    {
      "cell_type": "code",
      "source": [
        "y=model.predict([\"I will buy it from the Gap store myself\",\"I will pay at the store\",\"I want to redeem rewards\",\n",
        "             \"help me in reedem store rewards\",\"i will buy a new shirt from old navy\",\"change atm pin\",\"i love eating\",\"hello how are you\"],  )\n",
        "y"
      ],
      "metadata": {
        "colab": {
          "base_uri": "https://localhost:8080/"
        },
        "id": "uQuC-dmAJBWY",
        "outputId": "aa11433f-daf6-402c-baf4-6d05579e87f9"
      },
      "execution_count": 88,
      "outputs": [
        {
          "output_type": "execute_result",
          "data": {
            "text/plain": [
              "tensor([[0, 0, 1],\n",
              "        [0, 1, 0],\n",
              "        [0, 1, 0],\n",
              "        [0, 1, 0],\n",
              "        [0, 0, 1],\n",
              "        [0, 1, 0],\n",
              "        [1, 0, 0],\n",
              "        [0, 0, 0]])"
            ]
          },
          "metadata": {},
          "execution_count": 88
        }
      ]
    },
    {
      "cell_type": "code",
      "source": [
        "enc.inverse_transform(y.tolist())"
      ],
      "metadata": {
        "colab": {
          "base_uri": "https://localhost:8080/"
        },
        "id": "R2gRRujrJ4Me",
        "outputId": "221c34d3-666c-4ee2-9b2b-ae454b98c67c"
      },
      "execution_count": 89,
      "outputs": [
        {
          "output_type": "execute_result",
          "data": {
            "text/plain": [
              "['purchase', 'other', 'other', 'other', 'purchase', 'other', 'food', None]"
            ]
          },
          "metadata": {},
          "execution_count": 89
        }
      ]
    },
    {
      "cell_type": "code",
      "source": [
        "p=model.predict_proba([\"I will buy it from the Gap store myself\",\"I will pay at the store\",\"I want to redeem rewards\",\n",
        "             \"help me in reedem store rewards\",\"i will buy a new shirt from old navy\",\"change atm pin\",\"i love eating\",\"hello how are you\"]).tolist()\n",
        ""
      ],
      "metadata": {
        "id": "6I65jq6ZJebA"
      },
      "execution_count": 90,
      "outputs": []
    },
    {
      "cell_type": "code",
      "source": [
        "p"
      ],
      "metadata": {
        "colab": {
          "base_uri": "https://localhost:8080/"
        },
        "id": "bf-jOaRSLJBw",
        "outputId": "7fb139bb-22b8-4731-c49e-21ea0fcb2292"
      },
      "execution_count": 75,
      "outputs": [
        {
          "output_type": "execute_result",
          "data": {
            "text/plain": [
              "[[0.04597599365509583, 0.0891492184822894, 0.8421230014204194],\n",
              " [0.031052715604345204, 0.9160642655437964, 0.05565579991813705],\n",
              " [0.03440266731172787, 0.9090784717382613, 0.05569902442441118],\n",
              " [0.03080396977908401, 0.8119346230993881, 0.13386681828024724],\n",
              " [0.06757990365414174, 0.13110292362428458, 0.7057893399341212],\n",
              " [0.04138557439656298, 0.8566767030955524, 0.0780118434618092],\n",
              " [0.5728095817279562, 0.15774779075272566, 0.13291106236632347],\n",
              " [0.14606153839382857, 0.31948772167073564, 0.2614867568412487]]"
            ]
          },
          "metadata": {},
          "execution_count": 75
        }
      ]
    },
    {
      "cell_type": "code",
      "source": [
        "[sum(i) for i in p]"
      ],
      "metadata": {
        "colab": {
          "base_uri": "https://localhost:8080/"
        },
        "id": "SxuXVk70K9NQ",
        "outputId": "41389ea0-ece4-4a16-f40e-b4d9a7bd7b1b"
      },
      "execution_count": 72,
      "outputs": [
        {
          "output_type": "stream",
          "name": "stderr",
          "text": [
            "/usr/local/lib/python3.10/dist-packages/ipykernel/ipkernel.py:283: DeprecationWarning: `should_run_async` will not call `transform_cell` automatically in the future. Please pass the result to `transformed_cell` argument and any exception that happen during thetransform in `preprocessing_exc_tuple` in IPython 7.17 and above.\n",
            "  and should_run_async(code)\n"
          ]
        },
        {
          "output_type": "execute_result",
          "data": {
            "text/plain": [
              "[0.977248184167003,\n",
              " 1.0027727798716157,\n",
              " 0.9991801647251548,\n",
              " 0.9766054048558555,\n",
              " 0.9044721945083509,\n",
              " 0.9760741261366107,\n",
              " 0.8634684186426794]"
            ]
          },
          "metadata": {},
          "execution_count": 72
        }
      ]
    }
  ]
}